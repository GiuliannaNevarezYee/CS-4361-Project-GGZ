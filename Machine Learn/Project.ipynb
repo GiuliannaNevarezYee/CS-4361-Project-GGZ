{
 "cells": [
  {
   "metadata": {},
   "cell_type": "markdown",
   "source": "## This is the project made into a jupyter notebook for ease of running certain parts without having to run the whole program again",
   "id": "fce0fa870e11136d"
  },
  {
   "metadata": {
    "ExecuteTime": {
     "end_time": "2025-05-07T06:56:52.781091Z",
     "start_time": "2025-05-07T06:56:52.776372Z"
    }
   },
   "cell_type": "code",
   "source": [
    "import numpy as np\n",
    "import pandas as pd\n",
    "from datetime import datetime\n",
    "import re\n",
    "import matplotlib.pyplot as plt\n",
    "from sklearn.preprocessing import MultiLabelBinarizer, OneHotEncoder, StandardScaler\n",
    "from sklearn.model_selection import train_test_split\n",
    "from sklearn.preprocessing import MinMaxScaler\n",
    "from sklearn.metrics import mean_squared_error, r2_score\n",
    "from sklearn.linear_model import SGDRegressor\n",
    "from gensim.models.doc2vec import Doc2Vec, TaggedDocument\n",
    "import nltk\n",
    "nltk.download('punkt')\n",
    "nltk.download('punkt_tab')\n",
    "from nltk.tokenize import word_tokenize\n"
   ],
   "id": "initial_id",
   "outputs": [
    {
     "name": "stderr",
     "output_type": "stream",
     "text": [
      "[nltk_data] Downloading package punkt to\n",
      "[nltk_data]     C:\\Users\\Mei\\AppData\\Roaming\\nltk_data...\n",
      "[nltk_data]   Package punkt is already up-to-date!\n",
      "[nltk_data] Downloading package punkt_tab to\n",
      "[nltk_data]     C:\\Users\\Mei\\AppData\\Roaming\\nltk_data...\n",
      "[nltk_data]   Package punkt_tab is already up-to-date!\n"
     ]
    }
   ],
   "execution_count": 60
  },
  {
   "metadata": {
    "ExecuteTime": {
     "end_time": "2025-05-07T06:56:52.924576Z",
     "start_time": "2025-05-07T06:56:52.816942Z"
    }
   },
   "cell_type": "code",
   "source": [
    "# Read the dataset\n",
    "df = pd.read_csv(\"anime-dataset.csv\")\n",
    "\n",
    "# Drop the unnecessary fields, like the ID of the anime\n",
    "df = df.drop(['anime_id', 'Producers', 'Licensors', 'Studios'], axis=1)"
   ],
   "id": "928a11620e0465ef",
   "outputs": [],
   "execution_count": 61
  },
  {
   "metadata": {},
   "cell_type": "markdown",
   "source": "### A general overview of our initial dataset",
   "id": "294ab18628ecf09c"
  },
  {
   "metadata": {
    "ExecuteTime": {
     "end_time": "2025-05-07T06:56:52.980250Z",
     "start_time": "2025-05-07T06:56:52.954081Z"
    }
   },
   "cell_type": "code",
   "source": [
    "# Give a general overview of the dataset\n",
    "print(df.head())\n",
    "print(df.describe())\n",
    "print(df.info())"
   ],
   "id": "e818a64193f2cd7b",
   "outputs": [
    {
     "name": "stdout",
     "output_type": "stream",
     "text": [
      "   Score                             Name             English name  \\\n",
      "0   8.78                     Cowboy Bebop             Cowboy Bebop   \n",
      "1   8.39  Cowboy Bebop: Tengoku no Tobira  Cowboy Bebop: The Movie   \n",
      "2   8.24                           Trigun                   Trigun   \n",
      "3   7.27               Witch Hunter Robin       Witch Hunter Robin   \n",
      "4   6.98                   Bouken Ou Beet   Beet the Vandel Buster   \n",
      "\n",
      "                                            Synopsis  \\\n",
      "0  Crime is timeless. By the year 2071, humanity ...   \n",
      "1  Another day, another bounty—such is the life o...   \n",
      "2  Vash the Stampede is the man with a $$60,000,0...   \n",
      "3  Robin Sena is a powerful craft user drafted in...   \n",
      "4  It is the dark century and the people are suff...   \n",
      "\n",
      "                                              Genres   Type Episodes  \\\n",
      "0    Action, Adventure, Comedy, Drama, Sci-Fi, Space     TV       26   \n",
      "1              Action, Drama, Mystery, Sci-Fi, Space  Movie        1   \n",
      "2  Action, Sci-Fi, Adventure, Comedy, Drama, Shounen     TV       26   \n",
      "3  Action, Mystery, Police, Supernatural, Drama, ...     TV       26   \n",
      "4          Adventure, Fantasy, Shounen, Supernatural     TV       52   \n",
      "\n",
      "                          Aired           Status    Premiered  ...  \\\n",
      "0   Apr 3, 1998 to Apr 24, 1999  Finished Airing  Spring 1998  ...   \n",
      "1                      1-Sep-01  Finished Airing      Unknown  ...   \n",
      "2   Apr 1, 1998 to Sep 30, 1998  Finished Airing  Spring 1998  ...   \n",
      "3   Jul 2, 2002 to Dec 24, 2002  Finished Airing  Summer 2002  ...   \n",
      "4  Sep 30, 2004 to Sep 29, 2005  Finished Airing    Fall 2004  ...   \n",
      "\n",
      "          Duration                          Rating  Ranked  Popularity  \\\n",
      "0  24 min. per ep.  R - 17+ (violence & profanity)    28.0          39   \n",
      "1    1 hr. 55 min.  R - 17+ (violence & profanity)   159.0         518   \n",
      "2  24 min. per ep.       PG-13 - Teens 13 or older   266.0         201   \n",
      "3  25 min. per ep.       PG-13 - Teens 13 or older  2481.0        1467   \n",
      "4  23 min. per ep.                   PG - Children  3710.0        4369   \n",
      "\n",
      "   Members  Favorites  Watching  Completed  On-Hold  Dropped  \n",
      "0  1251960      61971    105808     718161    71513    26678  \n",
      "1   273145       1174      4143     208333     1935      770  \n",
      "2   558913      12944     29113     343492    25465    13925  \n",
      "3    94683        587      4300      46165     5121     5378  \n",
      "4    13224         18       642       7314      766     1108  \n",
      "\n",
      "[5 rows x 21 columns]\n",
      "              Score        Ranked    Popularity       Members      Favorites  \\\n",
      "count  14950.000000  13229.000000  14950.000000  1.495000e+04   14950.000000   \n",
      "mean       6.511614   6828.971275   7465.197258  4.069187e+04     537.701672   \n",
      "std        0.807168   4168.527741   4312.933319  1.348826e+05    4399.306328   \n",
      "min        1.850000      1.000000      1.000000  2.000000e+02       0.000000   \n",
      "25%        6.080000   3309.000000   3732.000000  7.362500e+02       1.000000   \n",
      "50%        6.510000   6614.000000   7465.500000  3.494500e+03       6.000000   \n",
      "75%        7.010000   9940.000000  11193.000000  1.921375e+04      47.000000   \n",
      "max        9.190000  15780.000000  17565.000000  2.589552e+06  183914.000000   \n",
      "\n",
      "            Watching     Completed        On-Hold        Dropped  \n",
      "count   14950.000000  1.495000e+04   14950.000000   14950.000000  \n",
      "mean     2620.155385  2.594655e+04    1121.456856    1378.039465  \n",
      "std     15191.084819  9.813340e+04    4614.050265    5111.193311  \n",
      "min         0.000000  0.000000e+00       0.000000       0.000000  \n",
      "25%        27.000000  2.460000e+02      14.000000      48.000000  \n",
      "50%       127.000000  1.516500e+03      78.000000     102.000000  \n",
      "75%       723.000000  9.799000e+03     388.750000     377.000000  \n",
      "max    887333.000000  2.182587e+06  187919.000000  174710.000000  \n",
      "<class 'pandas.core.frame.DataFrame'>\n",
      "RangeIndex: 14950 entries, 0 to 14949\n",
      "Data columns (total 21 columns):\n",
      " #   Column        Non-Null Count  Dtype  \n",
      "---  ------        --------------  -----  \n",
      " 0   Score         14950 non-null  float64\n",
      " 1   Name          14950 non-null  object \n",
      " 2   English name  14853 non-null  object \n",
      " 3   Synopsis      14853 non-null  object \n",
      " 4   Genres        14950 non-null  object \n",
      " 5   Type          14950 non-null  object \n",
      " 6   Episodes      14950 non-null  object \n",
      " 7   Aired         14950 non-null  object \n",
      " 8   Status        14853 non-null  object \n",
      " 9   Premiered     14950 non-null  object \n",
      " 10  Source        14950 non-null  object \n",
      " 11  Duration      14950 non-null  object \n",
      " 12  Rating        14950 non-null  object \n",
      " 13  Ranked        13229 non-null  float64\n",
      " 14  Popularity    14950 non-null  int64  \n",
      " 15  Members       14950 non-null  int64  \n",
      " 16  Favorites     14950 non-null  int64  \n",
      " 17  Watching      14950 non-null  int64  \n",
      " 18  Completed     14950 non-null  int64  \n",
      " 19  On-Hold       14950 non-null  int64  \n",
      " 20  Dropped       14950 non-null  int64  \n",
      "dtypes: float64(2), int64(7), object(12)\n",
      "memory usage: 2.4+ MB\n",
      "None\n"
     ]
    }
   ],
   "execution_count": 62
  },
  {
   "metadata": {},
   "cell_type": "markdown",
   "source": " ### Plot the distribution of scores",
   "id": "4217d5f477738797"
  },
  {
   "metadata": {
    "ExecuteTime": {
     "end_time": "2025-05-07T06:56:53.121333Z",
     "start_time": "2025-05-07T06:56:53.018755Z"
    }
   },
   "cell_type": "code",
   "source": [
    "# Plot the score distribution\n",
    "df['Score'].hist(bins=50)\n",
    "plt.xlabel('Score')\n",
    "plt.ylabel('Count')\n",
    "plt.title('Distribution of Anime Scores')\n",
    "plt.show()"
   ],
   "id": "e09691f20cfd35f5",
   "outputs": [
    {
     "data": {
      "text/plain": [
       "<Figure size 640x480 with 1 Axes>"
      ],
      "image/png": "[encoded data removed]"
     },
     "metadata": {},
     "output_type": "display_data"
    }
   ],
   "execution_count": 63
  },
  {
   "metadata": {},
   "cell_type": "markdown",
   "source": "### Process the title and synopsis using word embeddings and Doc2Vec.",
   "id": "cd49968d3478b33"
  },
  {
   "metadata": {
    "ExecuteTime": {
     "end_time": "2025-05-07T06:57:55.767687Z",
     "start_time": "2025-05-07T06:56:53.168653Z"
    }
   },
   "cell_type": "code",
   "source": [
    "# Check if an english name is available if not then replace it with the japanese name\n",
    "df['English name'] = df['English name'].where(\n",
    "    ~df['English name'].str.strip().isin(['', 'UNKNOWN', np.nan]),\n",
    "    df['Name']\n",
    ")\n",
    "# Replace the empty description with an empty string\n",
    "df['Synopsis'] = df['Synopsis'].replace([\"No description available for this anime.\", np.nan], \"\")\n",
    "\n",
    "# Use word embeddings on the title and synopsis\n",
    "tagged_titles = [\n",
    "    TaggedDocument(words=word_tokenize(title.lower()), tags=[f\"TITLE_{i}\"])\n",
    "    for i, title in enumerate(df['English name'])\n",
    "]\n",
    "\n",
    "tagged_synopses = [\n",
    "    TaggedDocument(words=word_tokenize(title.lower()), tags=[f\"SYNOPSIS_{i}\"])\n",
    "    for i, title in enumerate(df['Synopsis'])\n",
    "]\n",
    "\n",
    "# Train the models for the title and synopsis using Doc2Vec\n",
    "title_model = Doc2Vec(vector_size=50, window=2, min_count=1, epochs=40, dm=1, workers=4)\n",
    "title_model.build_vocab(tagged_titles)\n",
    "title_model.train(tagged_titles, total_examples=title_model.corpus_count, epochs=title_model.epochs)\n",
    "\n",
    "synopsis_model = Doc2Vec(vector_size=100, window=5, min_count=2, epochs=40, dm=1, workers=4)\n",
    "synopsis_model.build_vocab(tagged_synopses)\n",
    "synopsis_model.train(tagged_synopses, total_examples=synopsis_model.corpus_count, epochs=synopsis_model.epochs)\n",
    "\n",
    "# Retrieve the vectors for the title and synopsis\n",
    "title_vectors = np.vstack([\n",
    "    title_model.dv[f\"TITLE_{i}\"] for i in range(len(df))\n",
    "])\n",
    "\n",
    "synopsis_vectors = np.vstack([\n",
    "    synopsis_model.dv[f\"SYNOPSIS_{i}\"] for i in range(len(df))\n",
    "])\n",
    "\n",
    "# Turn the vectors into dataframes then add them to the dataframe and then drop the old columns\n",
    "title_df = pd.DataFrame(title_vectors, columns=[f\"title_vec_{i}\" for i in range(title_vectors.shape[1])])\n",
    "synopsis_df = pd.DataFrame(synopsis_vectors, columns=[f\"synopsis_vec_{i}\" for i in range(synopsis_vectors.shape[1])])\n",
    "\n",
    "df_vectors = pd.concat([df.reset_index(drop=True), title_df, synopsis_df], axis=1)\n",
    "df = df_vectors.drop(['Name', 'English name', 'Synopsis'], axis=1)"
   ],
   "id": "e8e9686b1f1c067e",
   "outputs": [],
   "execution_count": 64
  },
  {
   "metadata": {},
   "cell_type": "markdown",
   "source": "### Process the genres by using one-hot encoding",
   "id": "903114fe78a796b"
  },
  {
   "metadata": {
    "ExecuteTime": {
     "end_time": "2025-05-07T06:57:55.847156Z",
     "start_time": "2025-05-07T06:57:55.807015Z"
    }
   },
   "cell_type": "code",
   "source": [
    "# Split genres by commas\n",
    "mlb = MultiLabelBinarizer()\n",
    "genre_encoded = mlb.fit_transform(df['Genres'].str.split(', '))\n",
    "genre_df = pd.DataFrame(genre_encoded, columns=mlb.classes_)\n",
    "\n",
    "# Add to dataframe\n",
    "df = pd.concat([df, genre_df], axis=1)\n",
    "df = df.drop(['Genres'], axis=1)"
   ],
   "id": "694c1b70cb3847c8",
   "outputs": [],
   "execution_count": 65
  },
  {
   "metadata": {},
   "cell_type": "markdown",
   "source": "### Process aired by turning it into how many days it aired for",
   "id": "19ac203a9060239"
  },
  {
   "metadata": {
    "ExecuteTime": {
     "end_time": "2025-05-07T06:57:56.061974Z",
     "start_time": "2025-05-07T06:57:55.877065Z"
    }
   },
   "cell_type": "code",
   "source": [
    "# Trying to turn the dates into a datetime\n",
    "def parse_date(date_str):\n",
    "    date_str = date_str.strip()\n",
    "\n",
    "    # Checks if it's just a year\n",
    "    if re.fullmatch(r'\\d{4}', date_str):\n",
    "        return datetime(int(date_str), 1, 1)\n",
    "\n",
    "    # The other possible formats for the dates which are something like dd-mon-yy or mon dd, yyyy\n",
    "    date_formats = ['%d-%b-%y', '%b %d, %Y']\n",
    "\n",
    "    for fmt in date_formats:\n",
    "        try:\n",
    "            return datetime.strptime(date_str, fmt)\n",
    "        except ValueError:\n",
    "            continue\n",
    "\n",
    "    return None\n",
    "\n",
    "\n",
    "# Calculates how many days an anime aired for\n",
    "def calculate_days_aired(aired_str):\n",
    "    # Checks to if there's any info on it first\n",
    "    if pd.isnull(aired_str) or aired_str.strip().lower() == 'unknown':\n",
    "        return np.nan\n",
    "\n",
    "    # Takes into account the 'to' in the formating\n",
    "    if 'to' in aired_str:\n",
    "        # If it has a 'to' it'll split it into a start date and an end date\n",
    "        start_str, end_str = aired_str.split('to')\n",
    "        start_date = parse_date(start_str)\n",
    "        end_str = end_str.strip()\n",
    "\n",
    "        # If the end date is ? or nothing that means it's still airing so set the date to today otherwise turn it into a date\n",
    "        if end_str == '?' or end_str == '':\n",
    "            end_date = datetime.now()\n",
    "        else:\n",
    "            end_date = parse_date(end_str)\n",
    "    # If there is no 'to' then that means it only aired once so like a movie so just make the end date the start date\n",
    "    else:\n",
    "        start_date = parse_date(aired_str)\n",
    "        end_date = start_date\n",
    "\n",
    "    # Now we can calculate how many days it aired for\n",
    "    if start_date and end_date:\n",
    "        days = (end_date - start_date).days + 1\n",
    "        return days if days > 0 else 1\n",
    "    # Something happened so just put the value as NaN\n",
    "    else:\n",
    "        return np.nan\n",
    "\n",
    "# Changes the dates aired into how many days it aired for to make it into a value that's easier to work with\n",
    "df['Aired_Days'] = df['Aired'].apply(calculate_days_aired)\n",
    "df = df.drop(['Aired'], axis=1)"
   ],
   "id": "f229ad67a8b39426",
   "outputs": [],
   "execution_count": 66
  },
  {
   "metadata": {},
   "cell_type": "markdown",
   "source": "### Process premiered by splitting the season and year and one-hot encoding the season",
   "id": "cd1e0ed6bde8b053"
  },
  {
   "metadata": {
    "ExecuteTime": {
     "end_time": "2025-05-07T06:57:56.835269Z",
     "start_time": "2025-05-07T06:57:56.095162Z"
    }
   },
   "cell_type": "code",
   "source": [
    "def split_premiered(premiered_str):\n",
    "    if premiered_str.lower() == 'unknown':\n",
    "        return np.nan, np.nan\n",
    "\n",
    "    parts = premiered_str.split(' ')\n",
    "    season = parts[0]\n",
    "\n",
    "    try:\n",
    "        year = int(parts[1])\n",
    "    except (IndexError, ValueError):\n",
    "        year = np.nan\n",
    "\n",
    "    return season, year\n",
    "\n",
    "\n",
    "df[['Season', 'Year']] = df['Premiered'].apply(lambda x: pd.Series(split_premiered(x)))\n",
    "df = df.drop(['Premiered'], axis=1)"
   ],
   "id": "86c40349483f9163",
   "outputs": [],
   "execution_count": 67
  },
  {
   "metadata": {},
   "cell_type": "markdown",
   "source": "### Process the duration by turning it into minutes",
   "id": "3609ed8e662d6cc7"
  },
  {
   "metadata": {
    "ExecuteTime": {
     "end_time": "2025-05-07T06:57:56.910688Z",
     "start_time": "2025-05-07T06:57:56.872172Z"
    }
   },
   "cell_type": "code",
   "source": [
    "# Function to convert duration string to total seconds\n",
    "def parse_duration(duration_str):\n",
    "    if pd.isnull(duration_str):\n",
    "        return np.nan\n",
    "\n",
    "    # Search for numbers before 'hr.', 'min.', and 'sec.'\n",
    "    hours = re.search(r'(\\d+)\\s*hr', duration_str)\n",
    "    minutes = re.search(r'(\\d+)\\s*min', duration_str)\n",
    "    seconds = re.search(r'(\\d+)\\s*sec', duration_str)\n",
    "\n",
    "    total_seconds = 0\n",
    "    if hours:\n",
    "        total_seconds += int(hours.group(1)) * 3600  # 1 hr = 3600 sec\n",
    "    if minutes:\n",
    "        total_seconds += int(minutes.group(1)) * 60  # 1 min = 60 sec\n",
    "    if seconds:\n",
    "        total_seconds += int(seconds.group(1))  # seconds\n",
    "\n",
    "    return total_seconds / 60 if total_seconds > 0 else np.nan  # Ensure NaN if no time found\n",
    "\n",
    "\n",
    "# Apply the function\n",
    "df['Duration_Minutes'] = df['Duration'].apply(parse_duration)\n",
    "df = df.drop(['Duration'], axis=1)"
   ],
   "id": "99d07dc21d73a6c8",
   "outputs": [],
   "execution_count": 68
  },
  {
   "metadata": {},
   "cell_type": "markdown",
   "source": "### Process episodes by turning it into a float",
   "id": "9f55c7b255adfb6e"
  },
  {
   "metadata": {
    "ExecuteTime": {
     "end_time": "2025-05-07T06:57:56.961080Z",
     "start_time": "2025-05-07T06:57:56.952080Z"
    }
   },
   "cell_type": "code",
   "source": [
    "df['Episodes'] = df['Episodes'].replace('Unknown', np.nan)\n",
    "df['Episodes'] = pd.to_numeric(df['Episodes'], errors='coerce')"
   ],
   "id": "4316fdd461901988",
   "outputs": [],
   "execution_count": 69
  },
  {
   "metadata": {},
   "cell_type": "markdown",
   "source": "### Process the, type, season, source, rating, and status by one-hot encoding them",
   "id": "355a82a4efba0f25"
  },
  {
   "metadata": {
    "ExecuteTime": {
     "end_time": "2025-05-07T06:57:57.027985Z",
     "start_time": "2025-05-07T06:57:57.001822Z"
    }
   },
   "cell_type": "code",
   "source": [
    "categorical_cols = ['Type', 'Season', 'Source', 'Rating', 'Status']\n",
    "df[categorical_cols] = df[categorical_cols].fillna('Unknown')\n",
    "df = pd.get_dummies(df, columns=categorical_cols, prefix=categorical_cols, dummy_na=False)\n",
    "for col in df.columns:\n",
    "    if df[col].dtype == bool:\n",
    "        df[col] = df[col].astype(int)"
   ],
   "id": "ecf7b1681faf13af",
   "outputs": [],
   "execution_count": 70
  },
  {
   "metadata": {},
   "cell_type": "markdown",
   "source": "### Prepare everything to start training the models",
   "id": "7b04b02ceec4edbc"
  },
  {
   "metadata": {
    "ExecuteTime": {
     "end_time": "2025-05-07T06:57:57.204296Z",
     "start_time": "2025-05-07T06:57:57.068944Z"
    }
   },
   "cell_type": "code",
   "source": [
    "df = df.fillna(df.median(numeric_only=True))\n",
    "\n",
    "X = df.drop('Score', axis=1)\n",
    "y = df['Score']\n",
    "\n",
    "# Help standardize the features and normalize the score\n",
    "scaler = StandardScaler()\n",
    "X_scaled = scaler.fit_transform(X)\n",
    "score_scaler = MinMaxScaler()\n",
    "y_scaled = score_scaler.fit_transform(y.values.reshape(-1, 1)).flatten()"
   ],
   "id": "c44d3c19a6c9c233",
   "outputs": [],
   "execution_count": 71
  },
  {
   "metadata": {},
   "cell_type": "markdown",
   "source": "### Logistic Regression implementation utilizing bagging to account for the most important features only",
   "id": "a5ad0f5193276c30"
  },
  {
   "metadata": {
    "ExecuteTime": {
     "end_time": "2025-05-07T07:01:22.365586Z",
     "start_time": "2025-05-07T07:01:20.162837Z"
    }
   },
   "cell_type": "code",
   "source": [
    "from sklearn.ensemble import BaggingRegressor\n",
    "\n",
    "# Attempt to use bagging\n",
    "bagging = BaggingRegressor(estimator=SGDRegressor(max_iter=1000, tol=1e-3), n_estimators=20, random_state=42)\n",
    "bagging.fit(X_scaled, y)\n",
    "coefs = np.array([est.coef_ for est in bagging.estimators_])\n",
    "avg_coefs = np.mean(np.abs(coefs), axis=0)\n",
    "\n",
    "# Find the importance of each feature to see which ones are the best\n",
    "feature_importance_df = pd.DataFrame({'feature': X.columns, 'importance': avg_coefs})\n",
    "top_features = feature_importance_df.sort_values(by='importance', ascending=False).head(500)['feature'].tolist()\n",
    "X_top = X[top_features]\n",
    "\n",
    "X_top_scaled = scaler.fit_transform(X_top)\n",
    "\n",
    "X_train, X_test, y_train, y_test = train_test_split(X_top_scaled, y, test_size=0.2, random_state=42)\n",
    "\n",
    "# Gradient descent time baby\n",
    "final_model = SGDRegressor(max_iter=1000, tol=1e-3)\n",
    "final_model.fit(X_train, y_train)\n",
    "y_pred = final_model.predict(X_test)\n",
    "\n",
    "rmse = np.sqrt(mean_squared_error(y_test, y_pred))\n",
    "\n",
    "print(f\"RMSE: {rmse:.2f}\")\n",
    "\n",
    "# tolerance = 1.0\n",
    "# within_margin = np.abs(y_test - y_pred) <= tolerance\n",
    "# percentage_within_margin = within_margin.mean() * 100\n",
    "# print(f\"Percentage of predictions within ±{tolerance}: {percentage_within_margin:.2f}%\")"
   ],
   "id": "7837f549557818c2",
   "outputs": [
    {
     "name": "stdout",
     "output_type": "stream",
     "text": [
      "RMSE: 0.53\n"
     ]
    }
   ],
   "execution_count": 79
  }
 ],
 "metadata": {
  "kernelspec": {
   "display_name": "Python 3",
   "language": "python",
   "name": "python3"
  },
  "language_info": {
   "codemirror_mode": {
    "name": "ipython",
    "version": 2
   },
   "file_extension": ".py",
   "mimetype": "text/x-python",
   "name": "python",
   "nbconvert_exporter": "python",
   "pygments_lexer": "ipython2",
   "version": "2.7.6"
  }
 },
 "nbformat": 4,
 "nbformat_minor": 5
}
